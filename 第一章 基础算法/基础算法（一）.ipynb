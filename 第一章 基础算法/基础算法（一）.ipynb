{
 "cells": [
  {
   "cell_type": "markdown",
   "metadata": {
    "collapsed": true,
    "pycharm": {
     "name": "#%% md\n"
    }
   },
   "source": [
    "## 一、快速排序——分治\n",
    "①确定分界点：q[l],q[(l+r)/2],q[r],随机\n",
    "②调整范围：≤在左半边，≥在右半边\n",
    "③递归处理左右两段\n",
    "\n",
    "对于②的处理：\n",
    "·(暴力做法)\n",
    "①a[],b[]\n",
    "②q[l~r]-->q[i]<=x,x->a[]\n",
    "        -->q[i]>x,x->b[]\n",
    "③a[]->q[],b[]->q[]\n",
    "·(双指针做法)如下："
   ]
  },
  {
   "cell_type": "code",
   "execution_count": 1,
   "outputs": [
    {
     "name": "stdout",
     "output_type": "stream",
     "text": [
      "3 31 37 49 54 59 68 88 97 98 "
     ]
    }
   ],
   "source": [
    "def main():\n",
    "    length = int(input())\n",
    "    nums = [int(x) for x in input().split()]\n",
    "    quick_sort(nums, 0, length - 1)\n",
    "    for i in nums:\n",
    "        print(i,end=' ')\n",
    "\n",
    "def quick_sort(nums, start, end):\n",
    "    if start >= end:\n",
    "        return\n",
    "    left, right = start-1, end+1\n",
    "    pivot = nums[(left + right) // 2]\n",
    "    while left < right:\n",
    "        while 1:\n",
    "            left += 1\n",
    "            if nums[left] >= pivot:\n",
    "                break\n",
    "        while 1:\n",
    "            right -= 1\n",
    "            if nums[right] <= pivot:\n",
    "                break\n",
    "        if left < right:\n",
    "            nums[left], nums[right] = nums[right], nums[left]\n",
    "    quick_sort(nums, start, right)\n",
    "    quick_sort(nums, right+1, end)\n",
    "\n",
    "main()"
   ],
   "metadata": {
    "collapsed": false,
    "pycharm": {
     "name": "#%%\n"
    }
   }
  },
  {
   "cell_type": "markdown",
   "source": [
    "## 二、归并排序——分治\n",
    "①确定分界点：mid=(l+r)/2\n",
    "②递归排序left,right\n",
    "③归并——合二为一 ☆  O(n)\n",
    "时间复杂度O(nlogn)\n",
    "\n",
    "双指针"
   ],
   "metadata": {
    "collapsed": false,
    "pycharm": {
     "name": "#%% md\n"
    }
   }
  },
  {
   "cell_type": "code",
   "execution_count": 1,
   "outputs": [
    {
     "name": "stdout",
     "output_type": "stream",
     "text": [
      "1 2 3 4 5\n"
     ]
    }
   ],
   "source": [
    "def main():\n",
    "    n = int(input())\n",
    "    nums = list(map(int, input().split()))\n",
    "    merge_sort(nums)\n",
    "    print(' '.join(list(map(str, nums))))\n",
    "\n",
    "def merge_sort(nums):\n",
    "    if len(nums) <= 1:\n",
    "        return\n",
    "    mid = len(nums) // 2\n",
    "    L = nums[:mid]\n",
    "    R = nums[mid:]\n",
    "    merge_sort(L)\n",
    "    merge_sort(R)\n",
    "\n",
    "    i, j, k = 0, 0, 0\n",
    "    while i < len(L) and j < len(R):\n",
    "        if L[i] <= R[j]:\n",
    "            nums[k] = L[i]\n",
    "            i += 1\n",
    "        else:\n",
    "            nums[k] = R[j]\n",
    "            j += 1\n",
    "        k += 1\n",
    "    while i < len(L):\n",
    "        nums[k] = L[i]\n",
    "        i += 1\n",
    "        k += 1\n",
    "    while j < len(R):\n",
    "        nums[k] = R[j]\n",
    "        j += 1\n",
    "        k += 1\n",
    "\n",
    "main()"
   ],
   "metadata": {
    "collapsed": false,
    "pycharm": {
     "name": "#%%\n"
    }
   }
  },
  {
   "cell_type": "markdown",
   "source": [
    "## 三、整数二分\n",
    "有单调性一定可以二分，二分不一定需要单调性\n",
    "本质是一个性质->【边界点】，右半满足，左半不满足\n",
    "  l       ab                  r\n",
    "  xxxxxxxxxoooooooooooooooooooo\n",
    "情况1：在左半段寻找右边界（即寻找不符合性质的最后一个点）\n",
    "①mid=(l+r+1)/2\n",
    " if check(mid):->True: [mid,r]: l=mid\n",
    "               ->False: [l,mid-1]: r=mid-1\n",
    "情况2：在右半段寻找左边界（即寻找符合性质的第一个点）\n",
    "②mid=(l+r)/2\n",
    " if check(mid):->True: [l,mid]: r=mid\n",
    "               ->False: [mid+1,r]: l=mid+1"
   ],
   "metadata": {
    "collapsed": false,
    "pycharm": {
     "name": "#%% md\n"
    }
   }
  },
  {
   "cell_type": "code",
   "execution_count": 3,
   "outputs": [
    {
     "name": "stdout",
     "output_type": "stream",
     "text": [
      "3 4\n",
      "5 5\n",
      "-1 -1\n"
     ]
    }
   ],
   "source": [
    "def main():\n",
    "    n, q = map(int, input().split())\n",
    "    nums = list(map(int, input().split()))\n",
    "    for i in range(q):  # q次查询\n",
    "        target = int(input())\n",
    "        left = get_left(target,n,nums)\n",
    "        right = get_right(target,n,nums)\n",
    "        if nums[left] == target and nums[right] == target:\n",
    "            print(get_left(target,n,nums), get_right(target,n,nums))\n",
    "        else:\n",
    "            print(-1, -1)\n",
    "\n",
    "def get_right(target,n,nums):  # 模板1\n",
    "    l = 0\n",
    "    r = n - 1\n",
    "    while l < r:\n",
    "        mid = int((l+r+1)/2) # int向下取整\n",
    "        if nums[mid] <= target:\n",
    "            l = mid\n",
    "        else:\n",
    "            r = mid - 1\n",
    "    return l\n",
    "\n",
    "def get_left(target,n,nums):  # 模板2\n",
    "    l = 0\n",
    "    r = n - 1\n",
    "    while l < r:\n",
    "        mid = int((l+r)/2)\n",
    "        if nums[mid] >= target:\n",
    "            r = mid\n",
    "        else:\n",
    "            l = mid + 1\n",
    "    return l\n",
    "\n",
    "main()"
   ],
   "metadata": {
    "collapsed": false,
    "pycharm": {
     "name": "#%%\n"
    }
   }
  },
  {
   "cell_type": "markdown",
   "source": [
    "## 四、浮点二分"
   ],
   "metadata": {
    "collapsed": false,
    "pycharm": {
     "name": "#%% md\n"
    }
   }
  },
  {
   "cell_type": "code",
   "execution_count": 5,
   "outputs": [
    {
     "name": "stdout",
     "output_type": "stream",
     "text": [
      "10.000000\n"
     ]
    }
   ],
   "source": [
    "def main():\n",
    "    n = float(input())\n",
    "    l = bsearch(-10000,10000,n)\n",
    "    print('{:.6f}'.format(l))\n",
    "\n",
    "def bsearch(l,r,n):  # 经验：结果保留i位，误差保留i+2位\n",
    "    while r - l > 1e-8:\n",
    "        mid = float((l + r) / 2)\n",
    "        if mid*mid*mid >= n:\n",
    "            r = mid\n",
    "        else:\n",
    "            l = mid\n",
    "    return l\n",
    "\n",
    "main()"
   ],
   "metadata": {
    "collapsed": false,
    "pycharm": {
     "name": "#%%\n"
    }
   }
  }
 ],
 "metadata": {
  "kernelspec": {
   "display_name": "Python 3",
   "language": "python",
   "name": "python3"
  },
  "language_info": {
   "codemirror_mode": {
    "name": "ipython",
    "version": 2
   },
   "file_extension": ".py",
   "mimetype": "text/x-python",
   "name": "python",
   "nbconvert_exporter": "python",
   "pygments_lexer": "ipython2",
   "version": "2.7.6"
  }
 },
 "nbformat": 4,
 "nbformat_minor": 0
}