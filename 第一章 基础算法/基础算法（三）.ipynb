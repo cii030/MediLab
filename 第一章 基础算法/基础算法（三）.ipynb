{
 "cells": [
  {
   "cell_type": "markdown",
   "metadata": {
    "collapsed": true,
    "pycharm": {
     "name": "#%% md\n"
    }
   },
   "source": [
    "## 一、双指针算法\n",
    "for (int i = 0, j = 0; i < n; i ++ )\n",
    "{\n",
    "    while (j < i && check(i, j)) j ++ ;\n",
    "    // 具体问题的逻辑\n",
    "}\n",
    "常见问题分类：\n",
    "    (1) 对于一个序列，用两个指针维护一段区间\n",
    "    (2) 对于两个序列，维护某种次序，比如归并排序中合并两个有序序列的操作\n",
    "双指针算法将暴力循环的时间复杂度优化到O（n）"
   ]
  },
  {
   "cell_type": "code",
   "execution_count": 1,
   "outputs": [
    {
     "name": "stdout",
     "output_type": "stream",
     "text": [
      "3\n"
     ]
    }
   ],
   "source": [
    "# AcWing 799. 最长连续不重复子序列\n",
    "n1 = int(input())\n",
    "data = [int(x) for x in input().split()]\n",
    "res = 0\n",
    "s = [0] * 100010\n",
    "\n",
    "def f1():  # 朴素法\n",
    "    global res\n",
    "\n",
    "    def check(l,r):\n",
    "        for i in range(l+1,r+1):\n",
    "            j = l\n",
    "            while j < i:\n",
    "                if data[i] == data[j]:\n",
    "                    return 1\n",
    "                j += 1\n",
    "        return 0\n",
    "\n",
    "    for i in range(n1):\n",
    "        j = 0\n",
    "        while j < i:\n",
    "            # 得到某个连续子区间\n",
    "            if check(j, i) == 0:\n",
    "                res = max(i-j+1,res)\n",
    "            j += 1\n",
    "    print(res)\n",
    "\n",
    "def f2():  # 双指针做法 j是不会后退的，即：j具有单调性\n",
    "    global res\n",
    "\n",
    "    def check(l,r):\n",
    "        for i in range(l+1,r+1):\n",
    "            j = l\n",
    "            while j < i:\n",
    "                if data[i] == data[j]:\n",
    "                    return 1\n",
    "                j += 1\n",
    "        return 0\n",
    "\n",
    "    j = 0\n",
    "    for i in range(n1):\n",
    "        while j < i:\n",
    "            if check(j,i) == 0:\n",
    "                res = max(res,i-j+1)\n",
    "                break\n",
    "            j += 1\n",
    "    print(res)\n",
    "\n",
    "def f3():  # 优化check\n",
    "    global res\n",
    "    j = 0\n",
    "    for i in range(n1):\n",
    "        s[data[i]] += 1          # 当前字符出现的次数+1\n",
    "        while s[data[i]] > 1:    # 如果当前字符出现次数>1,表示有重复，需要进行处理\n",
    "            s[data[j]] -= 1      # 让j开始往右走，走一次，看一次是否还有重复\n",
    "            j += 1\n",
    "        res = max(res, i-j+1)  # 更新答案\n",
    "\n",
    "    print(res)"
   ],
   "metadata": {
    "collapsed": false,
    "pycharm": {
     "name": "#%%\n"
    }
   }
  },
  {
   "cell_type": "markdown",
   "source": [
    "## 二、 位运算\n",
    "### 1. n的二进制表示中第k位是几\n",
    "n= 15 =(1111)2  个位是第0位\n",
    "①先把第k位移到最后一位 n >> k\n",
    "②看个位是几 x & 1\n",
    "### 2. lowbit(x):返回x的最后一位1\n",
    "树状数组基础\n",
    "x = 1010 lowbit(x)=10\n",
    "x = 101000 lowbit(x)=1000\n",
    "实现：x & -x  (-x = ~x+1)\n",
    "x    = 1010...1000\n",
    "~x   = 0101...0111\n",
    "~x+1 = 0101...1000\n",
    "x&-x = 0000...1000\n",
    "补充知识：\n",
    "原码：是最简单的机器数表示法。用最高位表示符号位，‘1’表示负号，‘0’表示正号。其他位存放该数的二进制的绝对值。\n",
    "所以1010表示十进制数（-2），同理 0010表示十进制数（2）\n",
    "反码：正数的反码还是等于原码，负数的反码就是他的原码除符号位外，按位取反。\n",
    "补码：正数的补码等于他的原码， 负数的补码等于反码+1。也等于正数反码+1。\n",
    "原码：0...01010\n",
    "反码：1...10101\n",
    "补码：1...10110 (~x+1"
   ],
   "metadata": {
    "collapsed": false,
    "pycharm": {
     "name": "#%% md\n"
    }
   }
  },
  {
   "cell_type": "code",
   "execution_count": 1,
   "outputs": [
    {
     "name": "stdout",
     "output_type": "stream",
     "text": [
      "1 1 2 1 2 "
     ]
    }
   ],
   "source": [
    "# AcWing 801. 二进制中1的个数\n",
    "def lowbit(x):\n",
    "    return x & -x\n",
    "\n",
    "def main():\n",
    "    n = int(input())\n",
    "    x = list(map(int,input().split()))\n",
    "    for i in x:\n",
    "        res = 0\n",
    "        while i != 0:\n",
    "            i -= lowbit(i)\n",
    "            res += 1\n",
    "        print(res,end=' ')\n",
    "\n",
    "main()"
   ],
   "metadata": {
    "collapsed": false,
    "pycharm": {
     "name": "#%%\n"
    }
   }
  },
  {
   "cell_type": "markdown",
   "source": [
    "## 三、离散化\n",
    "值域0~10^9  个数10^5\n",
    "a[]:1, 3, 100, 2000, 500000\n",
    "↓映射\n",
    "    0, 1, 2, 3, 4\n",
    "①a中可能有重复元素——去重\n",
    "②如何算出a中每个元素映射后的值——二分"
   ],
   "metadata": {
    "collapsed": false
   }
  },
  {
   "cell_type": "code",
   "execution_count": 2,
   "outputs": [
    {
     "name": "stdout",
     "output_type": "stream",
     "text": [
      "8\n",
      "0\n",
      "5\n"
     ]
    }
   ],
   "source": [
    "# AcWing 802. 区间和\n",
    "def find(x, alls):\n",
    "    # 给定离散前的值，找出离散后的值\n",
    "    # 二分查找，找出>=x的第一个数\n",
    "    l = 0\n",
    "    r = len(alls) - 1\n",
    "    while l < r:\n",
    "        mid = (l+r) // 2\n",
    "        if alls[mid] >= x:\n",
    "            r = mid\n",
    "        else:\n",
    "            l = mid + 1\n",
    "    return l + 1\n",
    "\n",
    "def main():\n",
    "    N = 300010   # 最多要用到三十万个坐标：插入(x),查询(l,r)\n",
    "\n",
    "    n,m = map(int,input().split())\n",
    "    a = [0] * N  # 离散索引：离散前的坐标所拥有值\n",
    "    s = [0] * (N+1)  # 前缀和数组\n",
    "    alls = [] # 所有使用过的坐标\n",
    "    add = [] # 二元组，(插入值,插入坐标)\n",
    "    query = [] # 二元组，(l,r)\n",
    "    # 收集插入操作\n",
    "    for i in range(n):\n",
    "        x, c = map(int,input().split())\n",
    "        add.append((x,c))\n",
    "        alls.append(x)\n",
    "\n",
    "    # 收集询问操作\n",
    "    for i in range(m):\n",
    "        l, r = map(int,input().split())\n",
    "        query.append((l,r))\n",
    "        alls.append(l)\n",
    "        alls.append(r)\n",
    "\n",
    "    # 对alls进行去重\n",
    "    alls = list(set(alls))\n",
    "\n",
    "    # 对离散后的数组进行插入操作\n",
    "    for x,c in add:\n",
    "        x2 = find(x,alls)  # 离散数组中的位置\n",
    "        a[x2-1] += c\n",
    "\n",
    "    # 求前缀和\n",
    "    for i in range(1,N+1):\n",
    "        s[i] = s[i-1] + a[i-1]\n",
    "\n",
    "    # 进行m次询问\n",
    "    for l,r in query:\n",
    "        xl = find(l,alls)\n",
    "        xr = find(r,alls)\n",
    "        print(s[xr] - s[xl-1])\n",
    "\n",
    "main()"
   ],
   "metadata": {
    "collapsed": false,
    "pycharm": {
     "name": "#%%\n"
    }
   }
  },
  {
   "cell_type": "markdown",
   "source": [
    "## 四、区间合并\n",
    "①按区间左端点排序\n",
    "②维护一段区间，左端点st，右端点ed，如果两个区间之间有交集(第一个区间的尾部 >= 第二个区间的头部)，\n",
    "则合并，更新尾部end = max(end, 第二个区间和第一个区间哪个尾部值最大)\n",
    "否则重新标记新的区间头start和尾部end为第二个区间的头和尾"
   ],
   "metadata": {
    "collapsed": false,
    "pycharm": {
     "name": "#%% md\n"
    }
   }
  },
  {
   "cell_type": "code",
   "execution_count": null,
   "outputs": [],
   "source": [
    "def main():\n",
    "    n = int(input())\n",
    "    segs = []\n",
    "    # 读入\n",
    "    for _ in range(n):\n",
    "        l,r = map(int,input().split())\n",
    "        segs.append((l,r))\n",
    "    def merge(segs):\n",
    "        res = []\n",
    "        segs.sort(key=lambda x:x[0])\n",
    "        st, ed = -2e9, -2e9\n",
    "        for seg in segs:\n",
    "            if ed < seg[0]:  # 找到新的区间\n",
    "                if st != -2e9:\n",
    "                    res.append((st,ed))\n",
    "                st,ed = segs[0],segs[1]\n",
    "            else:  # 合并区间\n",
    "                ed = max(ed,seg[1])\n",
    "        if st != 2e-9:\n",
    "            res.append((st,ed))\n",
    "        return res\n",
    "    segs = merge(segs)\n",
    "    print(len(segs))"
   ],
   "metadata": {
    "collapsed": false,
    "pycharm": {
     "name": "#%%\n"
    }
   }
  }
 ],
 "metadata": {
  "kernelspec": {
   "display_name": "Python 3",
   "language": "python",
   "name": "python3"
  },
  "language_info": {
   "codemirror_mode": {
    "name": "ipython",
    "version": 2
   },
   "file_extension": ".py",
   "mimetype": "text/x-python",
   "name": "python",
   "nbconvert_exporter": "python",
   "pygments_lexer": "ipython2",
   "version": "2.7.6"
  }
 },
 "nbformat": 4,
 "nbformat_minor": 0
}