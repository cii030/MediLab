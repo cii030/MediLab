{
 "cells": [
  {
   "cell_type": "markdown",
   "metadata": {
    "collapsed": true,
    "pycharm": {
     "name": "#%% md\n"
    }
   },
   "source": [
    "## 一、前缀和\n",
    "原数组：a1,a2,...,an\n",
    "前缀和数组：si = a1 + a2 +...+ ai , s0=0\n",
    "①如何求si：s[i] = s[i-1] + ai\n",
    "②作用：快速求出原数组一段数的和 O(1)\n",
    "[l, r] -> Sr - Sl-1"
   ]
  },
  {
   "cell_type": "code",
   "execution_count": 1,
   "outputs": [
    {
     "name": "stdout",
     "output_type": "stream",
     "text": [
      "3\n",
      "6\n",
      "10\n"
     ]
    }
   ],
   "source": [
    "# acwing 795.前缀和\n",
    "def main():\n",
    "    n, m = map(int, input().split())\n",
    "    a = [0] + list(map(int, input().split()))\n",
    "    s = [0] * (n+1)\n",
    "    for i in range(1,n+1):\n",
    "        s[i] = s[i-1] + a[i]  # 前缀和的初始化\n",
    "    for _ in range(m):\n",
    "        l,r = map(int, input().split())\n",
    "        print(s[r]-s[l-1])  # 区间和的计算\n",
    "\n",
    "main()"
   ],
   "metadata": {
    "collapsed": false,
    "pycharm": {
     "name": "#%%\n"
    }
   }
  },
  {
   "cell_type": "markdown",
   "source": [
    "### 二维前缀和\n",
    "原数组：矩阵\n",
    "前缀和数组：左上角所有元素的和\n",
    "(x1,y1) ~ (x2,y2):\n",
    "Sx2,y2 - Sx2,y1-1 - Sx1-1,y2 + Sx1-1,y1-1\n",
    "求Sij：Sij = Si-1,j + Si,j-1 - Si-1,j-1 + aijS[i, j] = 第i行j列格子左上部分所有元素的和\n",
    "以(x1, y1)为左上角，(x2, y2)为右下角的子矩阵的和为：\n",
    "S[x2, y2] - S[x1 - 1, y2] - S[x2, y1 - 1] + S[x1 - 1, y1 - 1]"
   ],
   "metadata": {
    "collapsed": false
   }
  },
  {
   "cell_type": "code",
   "execution_count": 3,
   "outputs": [
    {
     "name": "stdout",
     "output_type": "stream",
     "text": [
      "17\n",
      "27\n",
      "21\n"
     ]
    }
   ],
   "source": [
    "# acwing 796.子矩阵的和\n",
    "def main():\n",
    "    a = [[0]*1010 for _ in range(1010)]\n",
    "    s = [[0]*1010 for _ in range(1010)]\n",
    "    n, m, q = map(int, input().split())\n",
    "    for i in range(n):  # 初始化数组\n",
    "        rows = list(map(int, input().split()))\n",
    "        for j in range(m):\n",
    "            a[i][j] = rows[j]\n",
    "\n",
    "    for i in range(1,n+1):\n",
    "        for j in range(1,m+1):\n",
    "            s[i][j] = s[i-1][j] + s[i][j-1] - s[i-1][j-1] + a[i-1][j-1]\n",
    "            # 这里a[i-1]的原因是s的行列都预留了第一行第一列是0，方便计算\n",
    "\n",
    "    for _ in range(q):\n",
    "        x1, y1, x2, y2 = map(int,input().split())\n",
    "        print(s[x2][y2] - s[x2][y1-1] - s[x1-1][y2] + s[x1-1][y1-1])\n",
    "\n",
    "main()"
   ],
   "metadata": {
    "collapsed": false,
    "pycharm": {
     "name": "#%%\n"
    }
   }
  },
  {
   "cell_type": "markdown",
   "source": [
    "## 二、差分\n",
    "a1, a2,..., an\n",
    "构造b1,b2,...,bn\n",
    "使得 ai = b1 + b2 +...+ bi\n",
    "b1 = a1\n",
    "b2 = a2 - a1\n",
    "b3 = a3 - a2\n",
    "bn = an - an-1\n",
    "b称为a的差分，a称为b的前缀和\n",
    "作用：O（n）B -> A\n",
    "[l,r] + c  al +c, al+1 +c,..., ar+c\n",
    "频繁对原数组的一个区间的元素进行增减\n",
    "bl + c ... br+1 - c 再求前缀和就可以得到想要的a数组"
   ],
   "metadata": {
    "collapsed": false
   }
  },
  {
   "cell_type": "code",
   "execution_count": 1,
   "outputs": [
    {
     "name": "stdout",
     "output_type": "stream",
     "text": [
      "3 4 5 3 4 2 "
     ]
    }
   ],
   "source": [
    "# acwing 797.差分\n",
    "def insert(b,l,r,c):\n",
    "    b[l] += c\n",
    "    b[r+1] -= c\n",
    "\n",
    "def main():\n",
    "    n, m = map(int, input().split())\n",
    "    a = [0] * (n+10)  # 原值数组\n",
    "    b = [0] * (n+10)  # 差分数组\n",
    "    nums = list(map(int, input().split()))\n",
    "\n",
    "    for index,val in enumerate(nums): # 构造原数组\n",
    "        # enumerate() 函数用于将一个可遍历的数据对象(如列表、元组或字符串)组合为一个索引序列，同时列出数据和数据下标，一般用在 for 循环当中。\n",
    "        a[index+1] = val\n",
    "\n",
    "    for i in range(1,n+1): # 构造差分数组\n",
    "        insert(b, i, i, a[i])\n",
    "\n",
    "    for _ in range(m):  # 进行增减操作\n",
    "        l, r, c = map(int, input().split())\n",
    "        insert(b, l, r, c)\n",
    "\n",
    "    for i in range(1,n+1): # 求差分数组b的前缀和即可得到数组a\n",
    "        b[i] += b[i-1]\n",
    "\n",
    "    for j in range(1,n+1):\n",
    "        print(b[j],end=\" \")\n",
    "        print()\n",
    "\n",
    "main()"
   ],
   "metadata": {
    "collapsed": false,
    "pycharm": {
     "name": "#%%\n"
    }
   }
  },
  {
   "cell_type": "markdown",
   "source": [
    "### 二维差分\n",
    "bx1,y1 + c\n",
    "bx2+1,y1 - c\n",
    "bx1,y2+1 - c\n",
    "bx2+1,y2+1 + c\n",
    "给以(x1, y1)为左上角，(x2, y2)为右下角的子矩阵中的所有元素加上c：\n",
    "S[x1, y1] += c, S[x2 + 1, y1] -= c, S[x1, y2 + 1] -= c, S[x2 + 1, y2 + 1] += c"
   ],
   "metadata": {
    "collapsed": false
   }
  },
  {
   "cell_type": "code",
   "execution_count": null,
   "outputs": [],
   "source": [
    "# AcWing 798. 差分矩阵\n",
    "def insert1(b,x1,x2,y1,y2,c):\n",
    "    b[x1][y1] += c\n",
    "    b[x2+1][y1] -= c\n",
    "    b[x1][y2+1] -= c\n",
    "    b[x2+1][y2+1] += c\n",
    "\n",
    "def main():\n",
    "    n, m, q = map(int, input().split())\n",
    "    a = [[0] * 1010 for _ in range(1010)]\n",
    "    b = [[0] * 1010 for _ in range(1010)]\n",
    "\n",
    "    # 将元素放入原始矩阵中\n",
    "    for i in range(1,n+1):\n",
    "        row = list(map(int, input().split()))\n",
    "        for j in range(1, m+1):\n",
    "            a[i][j] = row[j-1]\n",
    "\n",
    "    # 将原始矩阵插入差分矩阵\n",
    "    for i in range(1, n+1):\n",
    "        for j in range(1, m+1):\n",
    "            insert1(b, i, j, i, j, a[i][j])\n",
    "\n",
    "    # 按照坐标区间插入新元素\n",
    "    while q:\n",
    "        q -= 1\n",
    "        x1, y1, x2, y2, c = map(int, input().split())\n",
    "        insert1(b, x1, y1, x2, y2, c)\n",
    "\n",
    "    #7.求出前缀和矩阵s重新赋值到b上\n",
    "    for i in range(1, n+1):\n",
    "        for j in range(1, m+1):\n",
    "            b[i][j] += b[i-1][j] + b[i][j-1] - b[i-1][j-1]\n",
    "\n",
    "    #8.输出差分矩阵的前缀矩阵\n",
    "    for i in range(1, n+1):\n",
    "        for j in range(1, m+1):\n",
    "            print(b[i][j], end=' ')\n",
    "        print()\n",
    "\n",
    "main()"
   ],
   "metadata": {
    "collapsed": false,
    "pycharm": {
     "name": "#%%\n"
    }
   }
  }
 ],
 "metadata": {
  "kernelspec": {
   "display_name": "Python 3",
   "language": "python",
   "name": "python3"
  },
  "language_info": {
   "codemirror_mode": {
    "name": "ipython",
    "version": 2
   },
   "file_extension": ".py",
   "mimetype": "text/x-python",
   "name": "python",
   "nbconvert_exporter": "python",
   "pygments_lexer": "ipython2",
   "version": "2.7.6"
  }
 },
 "nbformat": 4,
 "nbformat_minor": 0
}